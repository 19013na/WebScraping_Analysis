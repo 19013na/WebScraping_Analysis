{
 "cells": [
  {
   "cell_type": "markdown",
   "id": "978cc620",
   "metadata": {},
   "source": [
    "##### 3-2. 네이버 쇼핑 검색 API 호출하기"
   ]
  },
  {
   "cell_type": "code",
   "execution_count": null,
   "id": "29535141",
   "metadata": {},
   "outputs": [],
   "source": [
    "from dotenv import load_dotenv\n",
    "import requests\n",
    "import os\n",
    "import json\n",
    "\n",
    "\n",
    "def search_shops(query):   \n",
    "    \n",
    "    load_dotenv()\n",
    "\n",
    "    client_id = os.getenv(\"NAVER_CLIENT_ID\")\n",
    "    client_secret = os.getenv(\"NAVER_CLIENT_SECRET\")\n",
    "\n",
    "\n",
    "    headers = {\n",
    "        'X-Naver-Client-Id': client_id,\n",
    "        'X-Naver-Client-Secret': client_secret,\n",
    "    }\n",
    "\n",
    "    payload = {\n",
    "    'query':  query,\n",
    "    'display': 50,\n",
    "    'sort': 'sim'\n",
    "    }\n",
    "    \n",
    "    url = 'https://openapi.naver.com/v1/search/shop.json'\n",
    "    \n",
    "    # requests get(url, params, headers) 요청 \n",
    "    res = requests.get(url, params=payload, headers=headers)\n",
    "\n",
    "    # json 형식\n",
    "    items_data = res.json()['items']\n",
    "    return items_data\n",
    "\n",
    "def save_json(query):\n",
    "    items_data = search_shops(query)\n",
    "# 질문 : 검색어로 찾은 책 목록을 JSON 파일로 저장하기\n",
    "    first_file_name = 'data/shops.json'\n",
    "    os.makedirs(os.path.dirname(first_file_name), exist_ok=True)\n",
    "\n",
    "    # JSON 파일로 저장\n",
    "    with open(first_file_name, 'w', encoding='utf-8') as f:\n",
    "        json.dump(items_data, f, ensure_ascii=False, indent=4)\n",
    "    "
   ]
  },
  {
   "cell_type": "markdown",
   "id": "a595c750",
   "metadata": {},
   "source": [
    "##### shops.json 파일을 Pandas DataFrame로 저장하기"
   ]
  },
  {
   "cell_type": "code",
   "execution_count": null,
   "id": "04a9130f",
   "metadata": {},
   "outputs": [],
   "source": [
    "save_json('패딩')\n",
    "shop_df = pd.read_json('data\\shops.json')\n",
    "shop_df.head()"
   ]
  },
  {
   "cell_type": "markdown",
   "id": "9d4a3d68",
   "metadata": {},
   "source": [
    "##### 질문 :  검색어로  찾은  Shop의 상품  목록 출력하기"
   ]
  },
  {
   "cell_type": "code",
   "execution_count": null,
   "id": "fd80fb65",
   "metadata": {},
   "outputs": [],
   "source": [
    "import pandas as pd\n",
    "\n",
    "\n",
    "def print_shops(query):   \n",
    "    items_data = search_shops(query)\n",
    "    return pd.DataFrame(items_data)\n",
    "    #shop_df.head(3)\n",
    "\n",
    "\n",
    "shop_df = print_shops('야상')\n",
    "shop_df.head(1)"
   ]
  },
  {
   "cell_type": "markdown",
   "id": "265edb13",
   "metadata": {},
   "source": [
    "##### 질문 :  검색어로  찾은  Shop의 상품  목록 중에서 가격이 50,000원 이하인 상품만 출력하기\n",
    "* brand,lprice,mallName,link 컬럼만 출력\n",
    "* 가격은 ascending (오름차순), index 초기화"
   ]
  },
  {
   "cell_type": "code",
   "execution_count": null,
   "id": "f98e0928",
   "metadata": {},
   "outputs": [],
   "source": [
    "shop_df = print_shops('야상')\n",
    "\n",
    "shop_df.loc[shop_df['lprice'].astype(int) <= 50000, ['brand', 'lprice', 'mallName', 'link']]\\\n",
    "        .sort_values(by='lprice').reset_index(drop=True)"
   ]
  },
  {
   "cell_type": "markdown",
   "id": "ac56b411",
   "metadata": {},
   "source": [
    "##### 질문 :  검색어로  찾은  Shop의 상품  목록 중에서 특정 쇼핑몰 상품만 출력하기\n",
    "* lprice 부터 brand  컬럼까지 slicing 으로 선택하여 출력\n",
    "* 가격은 ascending (오름차순), index 초기화\n"
   ]
  },
  {
   "cell_type": "code",
   "execution_count": null,
   "id": "00544adb",
   "metadata": {},
   "outputs": [],
   "source": [
    "shop_df = print_shops('청바지')\n",
    "\n",
    "shop_df.loc[shop_df['mallName'] == \"네이버\", 'lprice':'brand']\\\n",
    "    .sort_values(by='lprice').reset_index(drop=True)"
   ]
  }
 ],
 "metadata": {
  "kernelspec": {
   "display_name": "base",
   "language": "python",
   "name": "python3"
  },
  "language_info": {
   "codemirror_mode": {
    "name": "ipython",
    "version": 3
   },
   "file_extension": ".py",
   "mimetype": "text/x-python",
   "name": "python",
   "nbconvert_exporter": "python",
   "pygments_lexer": "ipython3",
   "version": "3.12.7"
  }
 },
 "nbformat": 4,
 "nbformat_minor": 5
}
