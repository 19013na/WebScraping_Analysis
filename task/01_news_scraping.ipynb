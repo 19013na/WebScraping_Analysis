{
 "cells": [
  {
   "cell_type": "code",
   "execution_count": 4,
   "id": "b9bbfa5e",
   "metadata": {},
   "outputs": [],
   "source": [
    "# reqeusts, bs4 import\n",
    "import requests\n",
    "import bs4\n",
    "from bs4 import BeautifulSoup"
   ]
  },
  {
   "cell_type": "markdown",
   "id": "deab45e2",
   "metadata": {},
   "source": [
    "##### 1-1 Daum 뉴스기사 제목 스크래핑하기"
   ]
  },
  {
   "cell_type": "code",
   "execution_count": null,
   "id": "928a5b2d",
   "metadata": {},
   "outputs": [
    {
     "name": "stdout",
     "output_type": "stream",
     "text": [
      "https://news.daum.net/economy\n",
      "<class 'requests.models.Response'>\n",
      "200\n",
      "<class 'bs4.element.ResultSet'> 80\n",
      "https://v.daum.net/v/20250408161553109\n",
      "트럼프발 주가폭락에 동아 \"경제적 핵전쟁\" 조선 \"금융위기 후 최악\"\n",
      "https://v.daum.net/v/20250408160526681\n",
      "공황과 격변의 판도라 박스가 열리다\n",
      "https://v.daum.net/v/20250408154329660\n",
      "해외서 발 뺀 이중항체, 韓 기업들이 이끈다\n",
      "https://v.daum.net/v/20250408153003030\n",
      "탄핵 끝났는데 韓경제 ‘봄’은 언제 오나…박근혜 때와 다른 이유\n",
      "https://v.daum.net/v/20250408152923007\n",
      "경상수지 흑자행진에도… 한은 “美 관세에 불확실성 확대”\n",
      "https://v.daum.net/v/20250408144527816\n",
      "국제유가 하락에 흔들리는 정유업계…실적 먹구름 짙어진다\n",
      "https://v.daum.net/v/20250408140753767\n",
      "조양호 한진그룹 선대회장 6주기… ‘45년 항공산업’ 리더십 재조명\n",
      "https://v.daum.net/v/20250408140302580\n",
      "미국 최대 은행이 \"여성 경영인이 경제 원동력\"이라 말한 이유\n",
      "https://v.daum.net/v/20250408124446384\n",
      "불평등 부채질하는 재난: 환경부는 약자 비명 듣고 있나요?\n",
      "https://v.daum.net/v/20250408164759375\n",
      "송미령 \"민관 '원팀'으로 미국 상호관세 파고 넘을것\"(종합)\n",
      "https://v.daum.net/v/20250408164507255\n",
      "경과원, 베트남서 남양주 우수기업 기술력 입증 지원\n",
      "https://v.daum.net/v/20250408164102073\n",
      "금융위 \"잠재성장률 하락·인구구조 변화 속 자본시장 역할 더욱 중요\"\n",
      "https://v.daum.net/v/20250408164055067\n",
      "최근 공정거래 자율준수 프로그램의 변경 내용과 대응 전략\n",
      "https://v.daum.net/v/20250408164834403\n",
      "삼성전자 1Q 책임진 '갤S25'…2Q '엣지' 출격[종합]\n",
      "https://v.daum.net/v/20250408164759376\n",
      "新신용과 의리의 '한화'..주주가치 택했다\n",
      "https://v.daum.net/v/20250408164520268\n",
      "\"뼈저리게 반성\"…한화에어로 주주배정 유증 '1.3조' 줄이고 사과\n",
      "https://v.daum.net/v/20250408164244148\n",
      "(사)훈민정음기념사업회, 미연방한인총연합회 초청 방문...훈민정음 탑 건립 후원을 위한 업무협약 체결\n",
      "https://v.daum.net/v/20250408164808391\n",
      "서울 청담동 명품거리로 간 '제이린드버그', 이유는[리얼로그M]\n",
      "https://v.daum.net/v/20250408164550308\n",
      "“약세재료 제거, 문제는 美 관세”…연기금·공제회 ‘해외 확대’ 대세 유지 [투자360]\n",
      "https://v.daum.net/v/20250408163118724\n",
      "어제 5% 폭락 코스피, 오늘 0.26% 찔끔 상승…外人 대탈출에 눌렸나 [투자360]\n",
      "https://v.daum.net/v/20250408163104710\n",
      "\"고교 선택과목 '금융과 경제생활' 필수로 넣어야\"\n",
      "https://v.daum.net/v/20250408163932008\n",
      "[마켓뷰] 美 관세 불확실성 여전… 전날 급락 ‘찔끔’ 만회한 韓 증시\n",
      "https://v.daum.net/v/20250408163550885\n",
      "원/달러 환율 1473.2원…금융위기 이후 16년만 최고\n",
      "https://v.daum.net/v/20250408162136326\n",
      "[단독] 기업은행 노조, 부당대출 쇄신안에 불만 16일 본점서 집회 예고\n",
      "https://v.daum.net/v/20250408161810197\n",
      "금융위, 미뤘던 과장급 인사 대대적으로…키워드는 '세대교체`\n",
      "https://v.daum.net/v/20250408161654143\n",
      "전세사기 기승…전세금 떼일 걱정 없는 ‘임대주택’ 각광\n",
      "https://v.daum.net/v/20250408160951877\n",
      "국토부, 화물차 이탈방지·과적 여부 등 불법운행 단속한다\n",
      "https://v.daum.net/v/20250408160756781\n",
      "“국토위성 정보 한 곳에서” 국토위성센터 누리집 개설\n",
      "https://v.daum.net/v/20250408154017541\n",
      "‘최고가’ 찍은 ‘이재명 아파트’ 양지1단지금호…‘재건축 호재’로 들썩이는 분당\n",
      "https://v.daum.net/v/20250408141329033\n",
      "\"스테이블코인 투자자 38%, 송금·달러 보유 목적으로 활용\"\n",
      "https://v.daum.net/v/20250408141206954\n",
      "비트코인, 관세유예 가짜뉴스에도 8만달러대 회복[매일코인]\n",
      "https://v.daum.net/v/20250408094246273\n",
      "비트코인, '블랙먼데이' 하루 만에 소폭 반등…1억1800만원대\n",
      "https://v.daum.net/v/20250407195548903\n",
      "[Q&AI] 美 관세 쇼크에 비트코인 급락… AI에게 물어보니\n",
      "https://v.daum.net/v/20250408121010759\n",
      "\"아무도 대신 챙겨주지 않습니다\" 퇴직금으론 부족한 은퇴 후 삶 \"개인 연금 중요\"\n",
      "https://v.daum.net/v/20250408111401177\n",
      "연금개혁은 세대 갈라치기? “재정 투입해 소득보장성 강화해야”\n",
      "https://v.daum.net/v/20250408110625822\n",
      "\"기금형 퇴직연금, 국민연금과 달라…사각지대 근로자 품어야\"[이슈인터뷰]\n",
      "https://v.daum.net/v/20250408070101889\n",
      "국회 연금특위 본격 가동···\"자동조정장치 핵심의제로\"[Pick코노미]\n",
      "https://v.daum.net/v/20250408162610501\n",
      "김문수 장관 퇴임···7가지 취임 약속 중 3가지 못 지켰다\n",
      "https://v.daum.net/v/20250408152831975\n",
      "서울시, 청년취업사관학교 3곳 ‘AI특화캠퍼스’로 재편\n",
      "https://v.daum.net/v/20250408120454629\n",
      "정년 연장에 '청년 고통'…취준생 일자리 11만개 사라졌다\n",
      "https://v.daum.net/v/20250408120312587\n",
      "'그냥 쉬는' 청년 2년째 증가…\"양질의 일자리 늘어야\"\n",
      "https://v.daum.net/v/20250408163914001\n",
      "면세점서 진열 족족 완판…‘스나이델 뷰티’가 뭐길래\n",
      "https://v.daum.net/v/20250408162021268\n",
      "'무알코올 회식' 1년..OO시장 주류업계 '황금알' 됐다\n",
      "https://v.daum.net/v/20250408160914852\n",
      "네스프레소, 카페인 쏙 빼고 원두 본연의 풍미 그대로 살렸다…'스위트 바닐라 디카페나토'\n",
      "https://v.daum.net/v/20250408160911846\n",
      "매일유업, 귀리 식문화 확산 이끈 '어메이징 오트 커피'…비건 인증 받았다\n",
      "https://v.daum.net/v/20250408162000246\n",
      "다넥트, 2025년 G-스타트업 초기창업 지원사업 선정\n",
      "https://v.daum.net/v/20250408100902613\n",
      "“같이 일할 스타트업 어디 없소?”...KB 벤처 영토 확대\n",
      "https://v.daum.net/v/20250408095016649\n",
      "페이워크, 금융 빅데이터 스타트업 지원사업 2년 연속 선정\n",
      "https://v.daum.net/v/20250408060046024\n",
      "‘납품 무기한 연기’...관세폭탄에 中企 고사위기 “대기업보다 타격 더 크다”\n",
      "https://v.daum.net/v/20250408164258158\n",
      "“제2의 량원펑 찾아요” 중국서 거액 주고 AI 인재 모신다\n",
      "https://v.daum.net/v/20250408164232138\n",
      "[월가 리포트] 트럼프 “中 보복 철회 안하면 50% 추가관세”\n",
      "https://v.daum.net/v/20250408162714545\n",
      "中, 쉬인 생산기지 해외 이전에 제동…\"일자리 감소 우려\"\n",
      "https://v.daum.net/v/20250408161803187\n",
      "\"스태그플레이션, 그나마 낙관적 시나리오\"…월가 거물들 美 경기침체 경고\n",
      "https://v.daum.net/v/20250408162133323\n",
      "5분 충전에 700km 7년만에 환골탈태 넥쏘 수소차 대중화 앞당긴다\n",
      "https://v.daum.net/v/20250408162123318\n",
      "레이싱까지 도전 … 이것이 제네시스\n",
      "https://v.daum.net/v/20250408162117310\n",
      "럭셔리 명가는 영원하다 … 수입차 빅2 대격돌\n",
      "https://v.daum.net/v/20250408162111305\n",
      "더 진화한 초럭셔리 세단 …'환희의 여신'이 이끄는 완벽한 주행\n",
      "https://v.daum.net/v/20250408165002454\n",
      "올해 韓 경제성장률 0.7%…1주 만에 전망 하향\n",
      "https://v.daum.net/v/20250408165002455\n",
      "파리바게뜨, 봄에 어울리는 사각 조각 케이크 2종 출시\n",
      "https://v.daum.net/v/20250408164926435\n",
      "‘술자리 면접’ 논란까지…더본코리아, 상장 이후 최저가\n",
      "https://v.daum.net/v/20250408164910425\n",
      "BBQ, 위메프 인수의향서 제출‥큐텐 대표 오늘 첫 재판\n",
      "https://v.daum.net/v/20250408164907422\n",
      "'수출 물류비 부담' 中企에 풀필먼트 비용 2500만 원 지원\n",
      "https://v.daum.net/v/20250408164904419\n",
      "답십리 자동차부품상가, 주상복합으로 재탄생… 재개발 본격화\n",
      "https://v.daum.net/v/20250408164851410\n",
      "새만금청, '새만금 그린 트러스트' 출범식 개최\n",
      "https://v.daum.net/v/20250408164834403\n",
      "삼성전자 1Q 책임진 '갤S25'…2Q '엣지' 출격[종합]\n",
      "https://v.daum.net/v/20250408164823399\n",
      "국내 美 기업들 “규제 예측 어렵고 정치 불안정···경영 환경 더 악화”\n",
      "https://v.daum.net/v/20250408164808390\n",
      "삼성전자 '갤럭시 S25' 덕에 1분기 보릿고개 넘었으나...\n",
      "https://v.daum.net/v/20250408164759375\n",
      "송미령 \"민관 '원팀'으로 미국 상호관세 파고 넘을것\"(종합)\n",
      "https://v.daum.net/v/20250408164439230\n",
      "강기정, 5·18정신 헌법수록 등 15대 과제 대선공약 제안(종합)\n",
      "https://v.daum.net/v/20250408164047063\n",
      "국민의힘 대선출마 러시…2∼3단계 컷오프 뒤 2명 최종경선 검토(종합)\n",
      "https://v.daum.net/v/20250408160003397\n",
      "'김건희 통화폰' 알고도 놓친 검찰...김영선 폰 11대 중 4대만 압수\n",
      "https://v.daum.net/v/20250408155627255\n",
      "순식간에 '10조 패닉셀' 외인…\"지금 최고의 주식\" OO은 샀다\n",
      "https://v.daum.net/v/20250408153600346\n",
      "시멘트 질소산화물 95% 저감 첫발은 뗐지만…전국 적용 설치비 1조 업계 부담 커\n",
      "https://v.daum.net/v/20250408150617956\n",
      "23명 목숨 앗아간 화성 씨랜드 참사, 26년 만에 '치유의 공간'으로[르포]\n",
      "https://v.daum.net/v/20250408144709910\n",
      "[르포]역대 최악 국립공원 산불…“진화 헬기 부재, 골든타임 놓쳤다”\n",
      "https://v.daum.net/v/20250408133123497\n",
      "[현장] 화마(火魔)가 삼킨 수 천 년 생명…1대뿐인 헬기는 힘도 못 썼다\n",
      "https://v.daum.net/v/20250408115414108\n",
      "“집회 끝나면 손님 올 줄 알았는데… 외국인 관광객 발길마저 끊겼어요”\n",
      "https://v.daum.net/v/20250408114928910\n",
      "[르포] 떠날 땐 대통령이었지만…'파면 尹' 복귀에 사저 주민들 '침묵'\n",
      "https://v.daum.net/v/20250408111500208\n",
      "주왕산국립공원 1/3 삼킨 화마…1대뿐인 헬기 무용지물이었다\n",
      "https://v.daum.net/v/20250408110037410\n",
      "[르포]산불 진화요원의 한숨 \"80년 된 나무가 죽었네요…헬기만 있었어도\"\n"
     ]
    }
   ],
   "source": [
    "def list_news(catalog):\n",
    "\n",
    "    #req_param = {'catalog' : 'economy'}\n",
    "    #url = 'https://news.daum.net/{catalog}'.format(**req_param)\n",
    "    url = f'https://news.daum.net/{catalog}'\n",
    "\n",
    "    #header 설정\n",
    "    req_header = {\n",
    "        'user_agent' : 'Mozilla/5.0 (Windows NT 10.0; Win64; x64) AppleWebKit/537.36 (KHTML, like Gecko) Chrome/135.0.0.0 Safari/537.36'\n",
    "    }\n",
    "\n",
    "    # requests get호출\n",
    "    res = requests.get(url, headers=req_header)\n",
    "    res.encoding = 'utf-8'\n",
    "\n",
    "    if res.ok :\n",
    "        html = res.text\n",
    "        soup = BeautifulSoup(html, 'html.parser')\n",
    "        \n",
    "        \n",
    "        # CSS 선택자\n",
    "        a_tag_list = soup.select(\"li a[href*='v.daum.net/v']\")  # div.cont_thumb strong.tit_txt\n",
    "        #li_tag_list = soup.select(\"ul.list_newsheadline2 li\")\n",
    "        \n",
    "        \n",
    "        print(f'{url}')\n",
    "        print(type(res))\n",
    "        print(res.status_code)\n",
    "        print(f'{type(a_tag_list)} {len(a_tag_list)}')\n",
    "        \n",
    "        # <a> 태그 리스트 순회하기\n",
    "        for a_tag in a_tag_list:\n",
    "            #print(type(a_tag))\n",
    "            #a_tag = li_tag.find('a')\n",
    "            \n",
    "            title = a_tag.select_one(\"div.cont_thumb strong.tit_txt\").text.strip()\n",
    "            #strong_tags = li_tag.select('div.cont_thumb strong.tit_txt')\n",
    "            if strong_tags: # tag가 있는지 여부를 확인하고 인덱스 0을 꺼내는 게 좋다\n",
    "                strong_tag = strong_tags[0]\n",
    "\n",
    "            #strong_tag = li_tag.select_one('div.cont_thumb strong.tit_txt')\n",
    "\n",
    "            # href 속성의 값을 가져오기\n",
    "            link = a_tag['href']\n",
    "            print(f'{link}\\n{title}')\n",
    "    else :\n",
    "        print(f'Error code : {res.status_code}');\n",
    "\n",
    "\n",
    "list_news('economy')"
   ]
  },
  {
   "cell_type": "markdown",
   "id": "b944378e",
   "metadata": {},
   "source": [
    "##### 1-2 뉴스기사의 링크와 제목 스크래핑 및 출력"
   ]
  },
  {
   "cell_type": "code",
   "execution_count": null,
   "id": "f6b1fc93",
   "metadata": {},
   "outputs": [
    {
     "name": "stdout",
     "output_type": "stream",
     "text": [
      "요청하신 Key가 없습니다.\n"
     ]
    }
   ],
   "source": [
    "\n",
    "\n",
    "section_dict = {'기후/환경':'climate','사회':'society','경제':'economy','정치':'politics',\\\n",
    "             '국재':'world','문화':'culture','생활':'life','IT/과학':'tech','인물':'people'}\n",
    "\n",
    "# 함수선언\n",
    "def print_news(section_name):\n",
    "    #section = section_dict[section_name]    # KeyError 발생\n",
    "    section = section_dict.get(section_name)\n",
    "        \n",
    "    if section is None:\n",
    "        print('요청하신 Key가 없습니다.')\n",
    "    else:\n",
    "        url = f'https://news.daum.net/{section}'\n",
    "        \n",
    "        #header 설정\n",
    "        req_header = {\n",
    "            'user_agent' : 'Mozilla/5.0 (Windows NT 10.0; Win64; x64) AppleWebKit/537.36 (KHTML, like Gecko) Chrome/135.0.0.0 Safari/537.36'\n",
    "        }\n",
    "\n",
    "        # requests get호출\n",
    "        res = requests.get(url, headers=req_header)\n",
    "        res.encoding = 'utf-8'\n",
    "\n",
    "        if res.ok :\n",
    "            html = res.text\n",
    "            soup = BeautifulSoup(html, 'html.parser')\n",
    "            \n",
    "            # CSS 선택자\n",
    "            a_tag_list = soup.select(\"li a[href*='v.daum.net/v']\")  # div.cont_thumb strong.tit_txt\n",
    "            \n",
    "            print(f'======> {url} {section_name} 뉴스 <======')\n",
    "\n",
    "            # <a> 태그 리스트 순회하기\n",
    "            for a_tag in a_tag_list:\n",
    "                title = a_tag.select_one(\"div.cont_thumb strong.tit_txt\").text.strip()\n",
    "\n",
    "                link = a_tag['href']\n",
    "                print(f'{link}\\n{title}')\n",
    "        else :\n",
    "            print(f'Error code : {res.status_code}');\n",
    "\n",
    "\n",
    "\n",
    "# 함수호출\n",
    "#print_news('경제')\n",
    "print_news('인물2')\n"
   ]
  },
  {
   "cell_type": "markdown",
   "id": "2c203042",
   "metadata": {},
   "source": [
    "##### Nate 뉴스기사 제목 스크래핑하기"
   ]
  },
  {
   "cell_type": "code",
   "execution_count": null,
   "id": "aa3581a9",
   "metadata": {},
   "outputs": [
    {
     "name": "stdout",
     "output_type": "stream",
     "text": [
      "nate 뉴스 기사 : 성공! 200\n",
      "selction_name : https://news.nate.com/recent?mid=n0100\n",
      "\n",
      "기사 제목 : 유세윤, 부모님과 효도 여행 치열한 수싸움···무슨 일? (선넘패)\n",
      "기사 링크 : https://news.nate.com/view/20250409n20836?mid=n0100\n",
      "\n"
     ]
    },
    {
     "data": {
      "image/png": "[encoded data removed]",
      "text/plain": [
       "<IPython.core.display.Image object>"
      ]
     },
     "metadata": {},
     "output_type": "display_data"
    },
    {
     "name": "stdout",
     "output_type": "stream",
     "text": [
      "기사 제목 : 한국 공공사회복지 지출 비중, OECD 평균에 크게 못 미쳐\n",
      "기사 링크 : https://news.nate.com/view/20250409n20835?mid=n0100\n",
      "\n"
     ]
    },
    {
     "data": {
      "image/jpeg": "[encoded data removed]",
      "text/plain": [
       "<IPython.core.display.Image object>"
      ]
     },
     "metadata": {},
     "output_type": "display_data"
    },
    {
     "name": "stdout",
     "output_type": "stream",
     "text": [
      "기사 제목 : 환율, 장중 1480원대 후반까지 급등\n",
      "기사 링크 : https://news.nate.com/view/20250409n20834?mid=n0100\n",
      "\n"
     ]
    },
    {
     "data": {
      "image/jpeg": "[encoded data removed]",
      "text/plain": [
       "<IPython.core.display.Image object>"
      ]
     },
     "metadata": {},
     "output_type": "display_data"
    },
    {
     "name": "stdout",
     "output_type": "stream",
     "text": [
      "기사 제목 : 제천·단양경찰, 대선 '선거사범 수사상황실' 가동\n",
      "기사 링크 : https://news.nate.com/view/20250409n20833?mid=n0100\n",
      "\n"
     ]
    },
    {
     "data": {
      "image/jpeg": "[encoded data removed]",
      "text/plain": [
       "<IPython.core.display.Image object>"
      ]
     },
     "metadata": {},
     "output_type": "display_data"
    },
    {
     "name": "stdout",
     "output_type": "stream",
     "text": [
      "기사 제목 : 환율, 장중 1480원대 후반까지 급등\n",
      "기사 링크 : https://news.nate.com/view/20250409n20832?mid=n0100\n",
      "\n"
     ]
    },
    {
     "data": {
      "image/jpeg": "[encoded data removed]",
      "text/plain": [
       "<IPython.core.display.Image object>"
      ]
     },
     "metadata": {},
     "output_type": "display_data"
    },
    {
     "name": "stdout",
     "output_type": "stream",
     "text": [
      "기사 제목 : 한국사회복지협의회 전국푸드뱅크, 경북·경남 산불지역에 긴급구호물품 지원\n",
      "기사 링크 : https://news.nate.com/view/20250409n20831?mid=n0100\n",
      "\n"
     ]
    },
    {
     "data": {
      "image/jpeg": "[encoded data removed]",
      "text/plain": [
       "<IPython.core.display.Image object>"
      ]
     },
     "metadata": {},
     "output_type": "display_data"
    },
    {
     "name": "stdout",
     "output_type": "stream",
     "text": [
      "기사 제목 : '자생 새우난초 보세요'…국립백두대간수목원서 특별전\n",
      "기사 링크 : https://news.nate.com/view/20250409n20830?mid=n0100\n",
      "\n"
     ]
    },
    {
     "data": {
      "image/jpeg": "[encoded data removed]",
      "text/plain": [
       "<IPython.core.display.Image object>"
      ]
     },
     "metadata": {},
     "output_type": "display_data"
    },
    {
     "name": "stdout",
     "output_type": "stream",
     "text": [
      "기사 제목 : 美상호관세 발효, 본게임 시작…협상 키워드는 '맞춤형·원스톱'\n",
      "기사 링크 : https://news.nate.com/view/20250409n19738?mid=n0100\n",
      "\n"
     ]
    },
    {
     "data": {
      "image/jpeg": "[encoded data removed]",
      "text/plain": [
       "<IPython.core.display.Image object>"
      ]
     },
     "metadata": {},
     "output_type": "display_data"
    },
    {
     "name": "stdout",
     "output_type": "stream",
     "text": [
      "기사 제목 : 환율, 장중 금융위기 후 최고치\n",
      "기사 링크 : https://news.nate.com/view/20250409n20828?mid=n0100\n",
      "\n"
     ]
    },
    {
     "data": {
      "image/jpeg": "[encoded data removed]",
      "text/plain": [
       "<IPython.core.display.Image object>"
      ]
     },
     "metadata": {},
     "output_type": "display_data"
    },
    {
     "name": "stdout",
     "output_type": "stream",
     "text": [
      "기사 제목 : 1500원 바라보는 환율\n",
      "기사 링크 : https://news.nate.com/view/20250409n20827?mid=n0100\n",
      "\n"
     ]
    },
    {
     "data": {
      "image/jpeg": "[encoded data removed]",
      "text/plain": [
       "<IPython.core.display.Image object>"
      ]
     },
     "metadata": {},
     "output_type": "display_data"
    },
    {
     "name": "stdout",
     "output_type": "stream",
     "text": [
      "기사 제목 : 'KBS 시말서의 신' 전현무, 사과문의 정석 또 보여줬다\n",
      "기사 링크 : https://news.nate.com/view/20250409n20239?mid=n0100\n",
      "\n"
     ]
    },
    {
     "data": {
      "image/jpeg": "[encoded data removed]",
      "text/plain": [
       "<IPython.core.display.Image object>"
      ]
     },
     "metadata": {},
     "output_type": "display_data"
    },
    {
     "name": "stdout",
     "output_type": "stream",
     "text": [
      "기사 제목 : '6경기서 4승' 황선홍 대전 감독, 2·3월의 감독상 수상\n",
      "기사 링크 : https://news.nate.com/view/20250409n20825?mid=n0100\n",
      "\n"
     ]
    },
    {
     "data": {
      "image/jpeg": "[encoded data removed]",
      "text/plain": [
       "<IPython.core.display.Image object>"
      ]
     },
     "metadata": {},
     "output_type": "display_data"
    },
    {
     "name": "stdout",
     "output_type": "stream",
     "text": [
      "기사 제목 : 금감원, 대부업 특별점검···\"돈 못갚아도 집 뺏기 전 절차 필수\"\n",
      "기사 링크 : https://news.nate.com/view/20250409n20824?mid=n0100\n",
      "\n"
     ]
    },
    {
     "data": {
      "image/jpeg": "[encoded data removed]",
      "text/plain": [
       "<IPython.core.display.Image object>"
      ]
     },
     "metadata": {},
     "output_type": "display_data"
    },
    {
     "name": "stdout",
     "output_type": "stream",
     "text": [
      "기사 제목 : 1500원 바라보는 환율\n",
      "기사 링크 : https://news.nate.com/view/20250409n20823?mid=n0100\n",
      "\n"
     ]
    },
    {
     "data": {
      "image/jpeg": "[encoded data removed]",
      "text/plain": [
       "<IPython.core.display.Image object>"
      ]
     },
     "metadata": {},
     "output_type": "display_data"
    },
    {
     "name": "stdout",
     "output_type": "stream",
     "text": [
      "기사 제목 : [오후장 선택과 집중] 생산 라인 증설로 중국 조선사향 납품 확대 기대 '한국카본'\n",
      "기사 링크 : https://news.nate.com/view/20250409n20822?mid=n0100\n",
      "\n",
      "기사 제목 : 주인 무덤까지 들어가 인사한 반려견 '감동'…\"순수한 사랑\"\n",
      "기사 링크 : https://news.nate.com/view/20250409n20738?mid=n0100\n",
      "\n"
     ]
    },
    {
     "data": {
      "image/jpeg": "[encoded data removed]",
      "text/plain": [
       "<IPython.core.display.Image object>"
      ]
     },
     "metadata": {},
     "output_type": "display_data"
    },
    {
     "name": "stdout",
     "output_type": "stream",
     "text": [
      "기사 제목 : [포토]조이, 따뜻한 봄 패션\n",
      "기사 링크 : https://news.nate.com/view/20250409n20820?mid=n0100\n",
      "\n"
     ]
    },
    {
     "data": {
      "image/jpeg": "[encoded data removed]",
      "text/plain": [
       "<IPython.core.display.Image object>"
      ]
     },
     "metadata": {},
     "output_type": "display_data"
    },
    {
     "name": "stdout",
     "output_type": "stream",
     "text": [
      "기사 제목 : '환율 더 오를까', 붐비는 환전소\n",
      "기사 링크 : https://news.nate.com/view/20250409n20819?mid=n0100\n",
      "\n"
     ]
    },
    {
     "data": {
      "image/jpeg": "[encoded data removed]",
      "text/plain": [
       "<IPython.core.display.Image object>"
      ]
     },
     "metadata": {},
     "output_type": "display_data"
    },
    {
     "name": "stdout",
     "output_type": "stream",
     "text": [
      "기사 제목 : 대구·경북 실물경기 들여다 보니…생산 늘었지만 소비는 '꽁꽁'\n",
      "기사 링크 : https://news.nate.com/view/20250409n20818?mid=n0100\n",
      "\n"
     ]
    },
    {
     "data": {
      "image/jpeg": "[encoded data removed]",
      "text/plain": [
       "<IPython.core.display.Image object>"
      ]
     },
     "metadata": {},
     "output_type": "display_data"
    },
    {
     "name": "stdout",
     "output_type": "stream",
     "text": [
      "기사 제목 : 심민 임실군수, 인구문제 인식 개선 릴레이 캠페인 동참\n",
      "기사 링크 : https://news.nate.com/view/20250409n20817?mid=n0100\n",
      "\n"
     ]
    },
    {
     "data": {
      "image/jpeg": "[encoded data removed]",
      "text/plain": [
       "<IPython.core.display.Image object>"
      ]
     },
     "metadata": {},
     "output_type": "display_data"
    }
   ],
   "source": [
    "# Nate 뉴스기사 제목 스크래핑하기\n",
    "import requests\n",
    "from bs4 import BeautifulSoup\n",
    "from urllib.parse import urljoin\n",
    "from IPython.display import Image, display\n",
    "\n",
    "\n",
    "\n",
    "section_dict = {'최신뉴스':100, '정치':200, '경제':300, '사회':400, '세계':500, 'IT/과학':600}\n",
    "\n",
    "# 함수선언\n",
    "def print_news(section_name):\n",
    "    section = section_dict[section_name]\n",
    "    url = f'https://news.nate.com/recent?mid=n0{section}'\n",
    "    req_header = {\n",
    "        'user_agent' : 'Mozilla/5.0 (Windows NT 10.0; Win64; x64) AppleWebKit/537.36 (KHTML, like Gecko) Chrome/135.0.0.0 Safari/537.36',\n",
    "        'referer': url\n",
    "    }\n",
    "    \n",
    "    res = requests.get(url, headers=req_header)\n",
    "   \n",
    "    print(f'nate 뉴스 기사 : 성공! {res.status_code}')\n",
    "    print(f'selction_name : {url}\\n')\n",
    "\n",
    "    if res.ok:\n",
    "        html = res.text\n",
    "        soup = BeautifulSoup(html, 'html.parser')\n",
    "        a_tag_list = soup.select(\"div.mlt01 a.lt1\") #span.tb h2.tit\n",
    "                \n",
    "        \n",
    "        for a_tag in a_tag_list:\n",
    "            link = a_tag['href']\n",
    "            title = a_tag.select_one(\"span.tb h2.tit\").text.strip()\n",
    "            print(f'기사 제목 : {title}\\n기사 링크 : https:{link}\\n')\n",
    "            \n",
    "            image_tags = a_tag.select(\"img[src*='news.nateimg.co.kr/orgImg']\")\n",
    "            if image_tags:\n",
    "                img_src = image_tags[0].get('src')\n",
    "                img_url = urljoin('http:', img_src)\n",
    "                display(Image(img_url))\n",
    "    else:\n",
    "        print(f'Error code : {res.status_code}')\n",
    "\n",
    "\n",
    "print_news('최신뉴스')\n",
    "#print_news('경제')"
   ]
  },
  {
   "cell_type": "code",
   "execution_count": null,
   "id": "4e0f583e",
   "metadata": {},
   "outputs": [],
   "source": [
    "#그냥 해봄\n",
    "\n",
    "def print_news():\n",
    "    url = \"https://finance.naver.com/news/\"\n",
    "    \n",
    "    req_header = {\n",
    "        'user_agent' : 'Mozilla/5.0 (Windows NT 10.0; Win64; x64) AppleWebKit/537.36 (KHTML, like Gecko) Chrome/135.0.0.0 Safari/537.36'\n",
    "    }\n",
    "    \n",
    "    res = requests.get(url, headers=req_header)\n",
    "    \n",
    "    if res.ok:\n",
    "        html = res.text\n",
    "        soup = BeautifulSoup(html, 'html.parser')\n",
    "        a_tag_list = soup.select(\"div.main_news ul li a[href*='article']\")\n",
    "        \n",
    "        \n",
    "        print(len(a_tag_list))\n",
    "      \n",
    "        for a_tag in a_tag_list:\n",
    "            title = a_tag.text.strip()\n",
    "            print(type(a_tag))\n",
    "            print(f'article title : {title}')\n",
    "    else:\n",
    "        print(f'Error message : {res.status_code}')\n",
    "\n",
    "print_news()"
   ]
  },
  {
   "cell_type": "markdown",
   "id": "9a04b24a",
   "metadata": {},
   "source": [
    "##### 2-2. 하나의 네이버 웹툰과 1개의 회차에 대한 Image 다운로드 하기"
   ]
  },
  {
   "cell_type": "code",
   "execution_count": 21,
   "id": "43d7bf3f",
   "metadata": {},
   "outputs": [
    {
     "name": "stdout",
     "output_type": "stream",
     "text": [
      "Complete : 200\n"
     ]
    }
   ],
   "source": [
    "import requests\n",
    "import os\n",
    "from bs4 import BeautifulSoup\n",
    "\n",
    "def download_one_episode(title,no,url):\n",
    "    req_header = {\n",
    "        'referer' : url\n",
    "    }\n",
    "\n",
    "    imgdir_name = os.path.join('img', title, str(no))   # img\\낢이사는이야기\\48 디렉토리가 생성\n",
    "    os.makedirs(imgdir_name, exist_ok=True)\n",
    "\n",
    "    # 웹 페이지 요청 및 확인\n",
    "    res = requests.get(url)\n",
    "    if not res.ok:\n",
    "        print(f'Error Code = {res.status_code}')\n",
    "        exit()\n",
    "    \n",
    "    # 이미지 URL 추출\n",
    "    soup = BeautifulSoup(res.text, 'html.parser')\n",
    "    img_url_list = [img_tag['src'] for img_tag in soup.select(\"img[src*='IMAG01']\")]\n",
    "\n",
    "    # 이미지 다운로드\n",
    "    for img_url in img_url_list:\n",
    "        res = requests.get(img_url, headers=req_header)\n",
    "        if res.ok:\n",
    "            img_data = res.content\n",
    "            file_path = os.path.join(imgdir_name, os.path.basename(img_url))\n",
    "            with open(file_path, 'wb') as file:\n",
    "                file.write(img_data)\n",
    "        else:\n",
    "            print(f'Error Code = {res.status_code} for {img_url}')\n",
    "    print(f'Complete : {res.status_code}')\n",
    "\n",
    "if __name__ == '__main__':\n",
    "    #download_one_episode('낢이사는이야기',48,'https://comic.naver.com/webtoon/detail?titleId=833255&no=49&week=tue')\n",
    "    download_one_episode('멍멍냠냠', 3, 'https://comic.naver.com/webtoon/detail?titleId=838203&no=3&week=finish')\n"
   ]
  }
 ],
 "metadata": {
  "kernelspec": {
   "display_name": "base",
   "language": "python",
   "name": "python3"
  },
  "language_info": {
   "codemirror_mode": {
    "name": "ipython",
    "version": 3
   },
   "file_extension": ".py",
   "mimetype": "text/x-python",
   "name": "python",
   "nbconvert_exporter": "python",
   "pygments_lexer": "ipython3",
   "version": "3.12.7"
  }
 },
 "nbformat": 4,
 "nbformat_minor": 5
}
