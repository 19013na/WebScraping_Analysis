{
 "cells": [
  {
   "cell_type": "code",
   "execution_count": 4,
   "id": "b9bbfa5e",
   "metadata": {},
   "outputs": [],
   "source": [
    "# reqeusts, bs4 import\n",
    "import requests\n",
    "import bs4\n",
    "from bs4 import BeautifulSoup"
   ]
  },
  {
   "cell_type": "code",
   "execution_count": null,
   "id": "928a5b2d",
   "metadata": {},
   "outputs": [
    {
     "name": "stdout",
     "output_type": "stream",
     "text": [
      "https://news.daum.net/economy\n",
      "<class 'requests.models.Response'>\n",
      "200\n",
      "<class 'bs4.element.ResultSet'> 80\n",
      "https://v.daum.net/v/20250408161553109\n",
      "트럼프발 주가폭락에 동아 \"경제적 핵전쟁\" 조선 \"금융위기 후 최악\"\n",
      "https://v.daum.net/v/20250408160526681\n",
      "공황과 격변의 판도라 박스가 열리다\n",
      "https://v.daum.net/v/20250408154329660\n",
      "해외서 발 뺀 이중항체, 韓 기업들이 이끈다\n",
      "https://v.daum.net/v/20250408153003030\n",
      "탄핵 끝났는데 韓경제 ‘봄’은 언제 오나…박근혜 때와 다른 이유\n",
      "https://v.daum.net/v/20250408152923007\n",
      "경상수지 흑자행진에도… 한은 “美 관세에 불확실성 확대”\n",
      "https://v.daum.net/v/20250408144527816\n",
      "국제유가 하락에 흔들리는 정유업계…실적 먹구름 짙어진다\n",
      "https://v.daum.net/v/20250408140753767\n",
      "조양호 한진그룹 선대회장 6주기… ‘45년 항공산업’ 리더십 재조명\n",
      "https://v.daum.net/v/20250408140302580\n",
      "미국 최대 은행이 \"여성 경영인이 경제 원동력\"이라 말한 이유\n",
      "https://v.daum.net/v/20250408124446384\n",
      "불평등 부채질하는 재난: 환경부는 약자 비명 듣고 있나요?\n",
      "https://v.daum.net/v/20250408164759375\n",
      "송미령 \"민관 '원팀'으로 미국 상호관세 파고 넘을것\"(종합)\n",
      "https://v.daum.net/v/20250408164507255\n",
      "경과원, 베트남서 남양주 우수기업 기술력 입증 지원\n",
      "https://v.daum.net/v/20250408164102073\n",
      "금융위 \"잠재성장률 하락·인구구조 변화 속 자본시장 역할 더욱 중요\"\n",
      "https://v.daum.net/v/20250408164055067\n",
      "최근 공정거래 자율준수 프로그램의 변경 내용과 대응 전략\n",
      "https://v.daum.net/v/20250408164834403\n",
      "삼성전자 1Q 책임진 '갤S25'…2Q '엣지' 출격[종합]\n",
      "https://v.daum.net/v/20250408164759376\n",
      "新신용과 의리의 '한화'..주주가치 택했다\n",
      "https://v.daum.net/v/20250408164520268\n",
      "\"뼈저리게 반성\"…한화에어로 주주배정 유증 '1.3조' 줄이고 사과\n",
      "https://v.daum.net/v/20250408164244148\n",
      "(사)훈민정음기념사업회, 미연방한인총연합회 초청 방문...훈민정음 탑 건립 후원을 위한 업무협약 체결\n",
      "https://v.daum.net/v/20250408164808391\n",
      "서울 청담동 명품거리로 간 '제이린드버그', 이유는[리얼로그M]\n",
      "https://v.daum.net/v/20250408164550308\n",
      "“약세재료 제거, 문제는 美 관세”…연기금·공제회 ‘해외 확대’ 대세 유지 [투자360]\n",
      "https://v.daum.net/v/20250408163118724\n",
      "어제 5% 폭락 코스피, 오늘 0.26% 찔끔 상승…外人 대탈출에 눌렸나 [투자360]\n",
      "https://v.daum.net/v/20250408163104710\n",
      "\"고교 선택과목 '금융과 경제생활' 필수로 넣어야\"\n",
      "https://v.daum.net/v/20250408163932008\n",
      "[마켓뷰] 美 관세 불확실성 여전… 전날 급락 ‘찔끔’ 만회한 韓 증시\n",
      "https://v.daum.net/v/20250408163550885\n",
      "원/달러 환율 1473.2원…금융위기 이후 16년만 최고\n",
      "https://v.daum.net/v/20250408162136326\n",
      "[단독] 기업은행 노조, 부당대출 쇄신안에 불만 16일 본점서 집회 예고\n",
      "https://v.daum.net/v/20250408161810197\n",
      "금융위, 미뤘던 과장급 인사 대대적으로…키워드는 '세대교체`\n",
      "https://v.daum.net/v/20250408161654143\n",
      "전세사기 기승…전세금 떼일 걱정 없는 ‘임대주택’ 각광\n",
      "https://v.daum.net/v/20250408160951877\n",
      "국토부, 화물차 이탈방지·과적 여부 등 불법운행 단속한다\n",
      "https://v.daum.net/v/20250408160756781\n",
      "“국토위성 정보 한 곳에서” 국토위성센터 누리집 개설\n",
      "https://v.daum.net/v/20250408154017541\n",
      "‘최고가’ 찍은 ‘이재명 아파트’ 양지1단지금호…‘재건축 호재’로 들썩이는 분당\n",
      "https://v.daum.net/v/20250408141329033\n",
      "\"스테이블코인 투자자 38%, 송금·달러 보유 목적으로 활용\"\n",
      "https://v.daum.net/v/20250408141206954\n",
      "비트코인, 관세유예 가짜뉴스에도 8만달러대 회복[매일코인]\n",
      "https://v.daum.net/v/20250408094246273\n",
      "비트코인, '블랙먼데이' 하루 만에 소폭 반등…1억1800만원대\n",
      "https://v.daum.net/v/20250407195548903\n",
      "[Q&AI] 美 관세 쇼크에 비트코인 급락… AI에게 물어보니\n",
      "https://v.daum.net/v/20250408121010759\n",
      "\"아무도 대신 챙겨주지 않습니다\" 퇴직금으론 부족한 은퇴 후 삶 \"개인 연금 중요\"\n",
      "https://v.daum.net/v/20250408111401177\n",
      "연금개혁은 세대 갈라치기? “재정 투입해 소득보장성 강화해야”\n",
      "https://v.daum.net/v/20250408110625822\n",
      "\"기금형 퇴직연금, 국민연금과 달라…사각지대 근로자 품어야\"[이슈인터뷰]\n",
      "https://v.daum.net/v/20250408070101889\n",
      "국회 연금특위 본격 가동···\"자동조정장치 핵심의제로\"[Pick코노미]\n",
      "https://v.daum.net/v/20250408162610501\n",
      "김문수 장관 퇴임···7가지 취임 약속 중 3가지 못 지켰다\n",
      "https://v.daum.net/v/20250408152831975\n",
      "서울시, 청년취업사관학교 3곳 ‘AI특화캠퍼스’로 재편\n",
      "https://v.daum.net/v/20250408120454629\n",
      "정년 연장에 '청년 고통'…취준생 일자리 11만개 사라졌다\n",
      "https://v.daum.net/v/20250408120312587\n",
      "'그냥 쉬는' 청년 2년째 증가…\"양질의 일자리 늘어야\"\n",
      "https://v.daum.net/v/20250408163914001\n",
      "면세점서 진열 족족 완판…‘스나이델 뷰티’가 뭐길래\n",
      "https://v.daum.net/v/20250408162021268\n",
      "'무알코올 회식' 1년..OO시장 주류업계 '황금알' 됐다\n",
      "https://v.daum.net/v/20250408160914852\n",
      "네스프레소, 카페인 쏙 빼고 원두 본연의 풍미 그대로 살렸다…'스위트 바닐라 디카페나토'\n",
      "https://v.daum.net/v/20250408160911846\n",
      "매일유업, 귀리 식문화 확산 이끈 '어메이징 오트 커피'…비건 인증 받았다\n",
      "https://v.daum.net/v/20250408162000246\n",
      "다넥트, 2025년 G-스타트업 초기창업 지원사업 선정\n",
      "https://v.daum.net/v/20250408100902613\n",
      "“같이 일할 스타트업 어디 없소?”...KB 벤처 영토 확대\n",
      "https://v.daum.net/v/20250408095016649\n",
      "페이워크, 금융 빅데이터 스타트업 지원사업 2년 연속 선정\n",
      "https://v.daum.net/v/20250408060046024\n",
      "‘납품 무기한 연기’...관세폭탄에 中企 고사위기 “대기업보다 타격 더 크다”\n",
      "https://v.daum.net/v/20250408164258158\n",
      "“제2의 량원펑 찾아요” 중국서 거액 주고 AI 인재 모신다\n",
      "https://v.daum.net/v/20250408164232138\n",
      "[월가 리포트] 트럼프 “中 보복 철회 안하면 50% 추가관세”\n",
      "https://v.daum.net/v/20250408162714545\n",
      "中, 쉬인 생산기지 해외 이전에 제동…\"일자리 감소 우려\"\n",
      "https://v.daum.net/v/20250408161803187\n",
      "\"스태그플레이션, 그나마 낙관적 시나리오\"…월가 거물들 美 경기침체 경고\n",
      "https://v.daum.net/v/20250408162133323\n",
      "5분 충전에 700km 7년만에 환골탈태 넥쏘 수소차 대중화 앞당긴다\n",
      "https://v.daum.net/v/20250408162123318\n",
      "레이싱까지 도전 … 이것이 제네시스\n",
      "https://v.daum.net/v/20250408162117310\n",
      "럭셔리 명가는 영원하다 … 수입차 빅2 대격돌\n",
      "https://v.daum.net/v/20250408162111305\n",
      "더 진화한 초럭셔리 세단 …'환희의 여신'이 이끄는 완벽한 주행\n",
      "https://v.daum.net/v/20250408165002454\n",
      "올해 韓 경제성장률 0.7%…1주 만에 전망 하향\n",
      "https://v.daum.net/v/20250408165002455\n",
      "파리바게뜨, 봄에 어울리는 사각 조각 케이크 2종 출시\n",
      "https://v.daum.net/v/20250408164926435\n",
      "‘술자리 면접’ 논란까지…더본코리아, 상장 이후 최저가\n",
      "https://v.daum.net/v/20250408164910425\n",
      "BBQ, 위메프 인수의향서 제출‥큐텐 대표 오늘 첫 재판\n",
      "https://v.daum.net/v/20250408164907422\n",
      "'수출 물류비 부담' 中企에 풀필먼트 비용 2500만 원 지원\n",
      "https://v.daum.net/v/20250408164904419\n",
      "답십리 자동차부품상가, 주상복합으로 재탄생… 재개발 본격화\n",
      "https://v.daum.net/v/20250408164851410\n",
      "새만금청, '새만금 그린 트러스트' 출범식 개최\n",
      "https://v.daum.net/v/20250408164834403\n",
      "삼성전자 1Q 책임진 '갤S25'…2Q '엣지' 출격[종합]\n",
      "https://v.daum.net/v/20250408164823399\n",
      "국내 美 기업들 “규제 예측 어렵고 정치 불안정···경영 환경 더 악화”\n",
      "https://v.daum.net/v/20250408164808390\n",
      "삼성전자 '갤럭시 S25' 덕에 1분기 보릿고개 넘었으나...\n",
      "https://v.daum.net/v/20250408164759375\n",
      "송미령 \"민관 '원팀'으로 미국 상호관세 파고 넘을것\"(종합)\n",
      "https://v.daum.net/v/20250408164439230\n",
      "강기정, 5·18정신 헌법수록 등 15대 과제 대선공약 제안(종합)\n",
      "https://v.daum.net/v/20250408164047063\n",
      "국민의힘 대선출마 러시…2∼3단계 컷오프 뒤 2명 최종경선 검토(종합)\n",
      "https://v.daum.net/v/20250408160003397\n",
      "'김건희 통화폰' 알고도 놓친 검찰...김영선 폰 11대 중 4대만 압수\n",
      "https://v.daum.net/v/20250408155627255\n",
      "순식간에 '10조 패닉셀' 외인…\"지금 최고의 주식\" OO은 샀다\n",
      "https://v.daum.net/v/20250408153600346\n",
      "시멘트 질소산화물 95% 저감 첫발은 뗐지만…전국 적용 설치비 1조 업계 부담 커\n",
      "https://v.daum.net/v/20250408150617956\n",
      "23명 목숨 앗아간 화성 씨랜드 참사, 26년 만에 '치유의 공간'으로[르포]\n",
      "https://v.daum.net/v/20250408144709910\n",
      "[르포]역대 최악 국립공원 산불…“진화 헬기 부재, 골든타임 놓쳤다”\n",
      "https://v.daum.net/v/20250408133123497\n",
      "[현장] 화마(火魔)가 삼킨 수 천 년 생명…1대뿐인 헬기는 힘도 못 썼다\n",
      "https://v.daum.net/v/20250408115414108\n",
      "“집회 끝나면 손님 올 줄 알았는데… 외국인 관광객 발길마저 끊겼어요”\n",
      "https://v.daum.net/v/20250408114928910\n",
      "[르포] 떠날 땐 대통령이었지만…'파면 尹' 복귀에 사저 주민들 '침묵'\n",
      "https://v.daum.net/v/20250408111500208\n",
      "주왕산국립공원 1/3 삼킨 화마…1대뿐인 헬기 무용지물이었다\n",
      "https://v.daum.net/v/20250408110037410\n",
      "[르포]산불 진화요원의 한숨 \"80년 된 나무가 죽었네요…헬기만 있었어도\"\n"
     ]
    }
   ],
   "source": [
    "# 1-1 Daum 뉴스기사 제목 스크래핑하기\n",
    "def list_news(catalog):\n",
    "\n",
    "    #req_param = {'catalog' : 'economy'}\n",
    "    #url = 'https://news.daum.net/{catalog}'.format(**req_param)\n",
    "    url = f'https://news.daum.net/{catalog}'\n",
    "\n",
    "    #header 설정\n",
    "    req_header = {\n",
    "        'user_agent' : 'Mozilla/5.0 (Windows NT 10.0; Win64; x64) AppleWebKit/537.36 (KHTML, like Gecko) Chrome/135.0.0.0 Safari/537.36'\n",
    "    }\n",
    "\n",
    "    # requests get호출\n",
    "    res = requests.get(url, headers=req_header)\n",
    "    res.encoding = 'utf-8'\n",
    "\n",
    "    if res.ok :\n",
    "        html = res.text\n",
    "        soup = BeautifulSoup(html, 'html.parser')\n",
    "        \n",
    "        \n",
    "        # CSS 선택자\n",
    "        a_tag_list = soup.select(\"li a[href*='v.daum.net/v']\")  # div.cont_thumb strong.tit_txt\n",
    "        #li_tag_list = soup.select(\"ul.list_newsheadline2 li\")\n",
    "        \n",
    "        \n",
    "        print(f'{url}')\n",
    "        print(type(res))\n",
    "        print(res.status_code)\n",
    "        print(f'{type(a_tag_list)} {len(a_tag_list)}')\n",
    "        \n",
    "        # <a> 태그 리스트 순회하기\n",
    "        for a_tag in a_tag_list:\n",
    "            #print(type(a_tag))\n",
    "            #a_tag = li_tag.find('a')\n",
    "            \n",
    "            title = a_tag.select_one(\"div.cont_thumb strong.tit_txt\").text.strip()\n",
    "            #strong_tags = li_tag.select('div.cont_thumb strong.tit_txt')\n",
    "            if strong_tags: # tag가 있는지 여부를 확인하고 인덱스 0을 꺼내는 게 좋다\n",
    "                strong_tag = strong_tags[0]\n",
    "\n",
    "            #strong_tag = li_tag.select_one('div.cont_thumb strong.tit_txt')\n",
    "\n",
    "            # href 속성의 값을 가져오기\n",
    "            link = a_tag['href']\n",
    "            print(f'{link}\\n{title}')\n",
    "    else :\n",
    "        print(f'Error code : {res.status_code}');\n",
    "\n",
    "\n",
    "list_news('economy')"
   ]
  },
  {
   "cell_type": "code",
   "execution_count": 6,
   "id": "f6b1fc93",
   "metadata": {},
   "outputs": [
    {
     "name": "stdout",
     "output_type": "stream",
     "text": [
      "요청하신 Key가 없습니다.\n"
     ]
    }
   ],
   "source": [
    "# 1-2 뉴스기사의 링크와 제목 스크래핑 및 출력\n",
    "\n",
    "section_dict = {'기후/환경':'climate','사회':'society','경제':'economy','정치':'politics',\\\n",
    "             '국재':'world','문화':'culture','생활':'life','IT/과학':'tech','인물':'people'}\n",
    "\n",
    "# 함수선언\n",
    "def print_news(section_name):\n",
    "    #section = section_dict[section_name]    # KeyError 발생\n",
    "    section = section_dict.get(section_name)\n",
    "        \n",
    "    if section is None:\n",
    "        print('요청하신 Key가 없습니다.')\n",
    "    else:\n",
    "        url = f'https://news.daum.net/{section}'\n",
    "        \n",
    "        #header 설정\n",
    "        req_header = {\n",
    "            'user_agent' : 'Mozilla/5.0 (Windows NT 10.0; Win64; x64) AppleWebKit/537.36 (KHTML, like Gecko) Chrome/135.0.0.0 Safari/537.36'\n",
    "        }\n",
    "\n",
    "        # requests get호출\n",
    "        res = requests.get(url, headers=req_header)\n",
    "        res.encoding = 'utf-8'\n",
    "\n",
    "        if res.ok :\n",
    "            html = res.text\n",
    "            soup = BeautifulSoup(html, 'html.parser')\n",
    "            \n",
    "            # CSS 선택자\n",
    "            a_tag_list = soup.select(\"li a[href*='v.daum.net/v']\")  # div.cont_thumb strong.tit_txt\n",
    "            \n",
    "            print(f'======> {url} {section_name} 뉴스 <======')\n",
    "\n",
    "            # <a> 태그 리스트 순회하기\n",
    "            for a_tag in a_tag_list:\n",
    "                title = a_tag.select_one(\"div.cont_thumb strong.tit_txt\").text.strip()\n",
    "\n",
    "                link = a_tag['href']\n",
    "                print(f'{link}\\n{title}')\n",
    "        else :\n",
    "            print(f'Error code : {res.status_code}');\n",
    "\n",
    "\n",
    "\n",
    "# 함수호출\n",
    "#print_news('경제')\n",
    "print_news('인물2')\n"
   ]
  },
  {
   "cell_type": "code",
   "execution_count": 11,
   "id": "aa3581a9",
   "metadata": {},
   "outputs": [
    {
     "name": "stdout",
     "output_type": "stream",
     "text": [
      "nate 뉴스 기사 : 성공! 200\n",
      "selction_name : https://news.nate.com/recent?mid=n0300\n",
      "\n",
      "기사 제목 : 스포티한 패밀리카의 정석…'더 뉴 아우디 Q6 e-트론'[시승기]\n",
      "기사 링크 : https://news.nate.com/view/20250409n20674?mid=n0300\n",
      "\n"
     ]
    },
    {
     "data": {
      "image/jpeg": "[encoded data removed]",
      "text/plain": [
       "<IPython.core.display.Image object>"
      ]
     },
     "metadata": {},
     "output_type": "display_data"
    },
    {
     "name": "stdout",
     "output_type": "stream",
     "text": [
      "기사 제목 : \"당국과 협상력 높인다\"…건설협회, 대형사 이사 영입 추진\n",
      "기사 링크 : https://news.nate.com/view/20250409n20654?mid=n0300\n",
      "\n"
     ]
    },
    {
     "data": {
      "image/jpeg": "[encoded data removed]",
      "text/plain": [
       "<IPython.core.display.Image object>"
      ]
     },
     "metadata": {},
     "output_type": "display_data"
    },
    {
     "name": "stdout",
     "output_type": "stream",
     "text": [
      "기사 제목 : [속보] 코스피, 장중 2300선 붕괴\n",
      "기사 링크 : https://news.nate.com/view/20250409n20652?mid=n0300\n",
      "\n"
     ]
    },
    {
     "data": {
      "image/jpeg": "[encoded data removed]",
      "text/plain": [
       "<IPython.core.display.Image object>"
      ]
     },
     "metadata": {},
     "output_type": "display_data"
    },
    {
     "name": "stdout",
     "output_type": "stream",
     "text": [
      "기사 제목 : [한경유레카 특징주] 한화오션, 실적향상 기대에도 적정 기업가치 상승 여력은 부족\n",
      "기사 링크 : https://news.nate.com/view/20250409n20651?mid=n0300\n",
      "\n"
     ]
    },
    {
     "data": {
      "image/jpeg": "[encoded data removed]",
      "text/plain": [
       "<IPython.core.display.Image object>"
      ]
     },
     "metadata": {},
     "output_type": "display_data"
    },
    {
     "name": "stdout",
     "output_type": "stream",
     "text": [
      "기사 제목 : [속보]코스피 장중 2,300선 붕괴…코스닥도 650 하회\n",
      "기사 링크 : https://news.nate.com/view/20250409n19967?mid=n0300\n",
      "\n"
     ]
    },
    {
     "data": {
      "image/jpeg": "[encoded data removed]",
      "text/plain": [
       "<IPython.core.display.Image object>"
      ]
     },
     "metadata": {},
     "output_type": "display_data"
    },
    {
     "name": "stdout",
     "output_type": "stream",
     "text": [
      "기사 제목 : 유에이치씨 그룹, 지난해 매출 360억원 돌파\n",
      "기사 링크 : https://news.nate.com/view/20250409n16092?mid=n0300\n",
      "\n"
     ]
    },
    {
     "data": {
      "image/jpeg": "[encoded data removed]",
      "text/plain": [
       "<IPython.core.display.Image object>"
      ]
     },
     "metadata": {},
     "output_type": "display_data"
    },
    {
     "name": "stdout",
     "output_type": "stream",
     "text": [
      "기사 제목 : 이재용, 일본 출장 마치고 귀국…'관세 압박' 속 보폭 확대\n",
      "기사 링크 : https://news.nate.com/view/20250409n20640?mid=n0300\n",
      "\n"
     ]
    },
    {
     "data": {
      "image/jpeg": "[encoded data removed]",
      "text/plain": [
       "<IPython.core.display.Image object>"
      ]
     },
     "metadata": {},
     "output_type": "display_data"
    },
    {
     "name": "stdout",
     "output_type": "stream",
     "text": [
      "기사 제목 : [속보] 트럼프, 약 60개국 추가 상호관세 예정대로 발효…韓 25%\n",
      "기사 링크 : https://news.nate.com/view/20250409n19849?mid=n0300\n",
      "\n",
      "기사 제목 : 韓 25%, 中 104% 상호관세 부과…코스피, 결국 2300선 깨졌다\n",
      "기사 링크 : https://news.nate.com/view/20250409n19711?mid=n0300\n",
      "\n"
     ]
    },
    {
     "data": {
      "image/jpeg": "[encoded data removed]",
      "text/plain": [
       "<IPython.core.display.Image object>"
      ]
     },
     "metadata": {},
     "output_type": "display_data"
    },
    {
     "name": "stdout",
     "output_type": "stream",
     "text": [
      "기사 제목 : 클로바인, 프로젝트·팀 관리부문 글로벌 1위 \"경쟁력 입증\"\n",
      "기사 링크 : https://news.nate.com/view/20250409n20608?mid=n0300\n",
      "\n"
     ]
    },
    {
     "data": {
      "image/jpeg": "[encoded data removed]",
      "text/plain": [
       "<IPython.core.display.Image object>"
      ]
     },
     "metadata": {},
     "output_type": "display_data"
    },
    {
     "name": "stdout",
     "output_type": "stream",
     "text": [
      "기사 제목 : 다날 '화이트라벨링', 선불업 운영 기준 변화에 기업 도입 문의 급증\n",
      "기사 링크 : https://news.nate.com/view/20250409n20595?mid=n0300\n",
      "\n"
     ]
    },
    {
     "data": {
      "image/png": "[encoded data removed]",
      "text/plain": [
       "<IPython.core.display.Image object>"
      ]
     },
     "metadata": {},
     "output_type": "display_data"
    },
    {
     "name": "stdout",
     "output_type": "stream",
     "text": [
      "기사 제목 : 폴란드서 역대 최대 규모 'K9 유저클럽'…美도 관심\n",
      "기사 링크 : https://news.nate.com/view/20250409n06820?mid=n0300\n",
      "\n"
     ]
    },
    {
     "data": {
      "image/jpeg": "[encoded data removed]",
      "text/plain": [
       "<IPython.core.display.Image object>"
      ]
     },
     "metadata": {},
     "output_type": "display_data"
    },
    {
     "name": "stdout",
     "output_type": "stream",
     "text": [
      "기사 제목 : 풀무원, 건강 환경 다 잡았다…두유로 만든 '메밀두유면' 출시\n",
      "기사 링크 : https://news.nate.com/view/20250409n13246?mid=n0300\n",
      "\n"
     ]
    },
    {
     "data": {
      "image/jpeg": "[encoded data removed]",
      "text/plain": [
       "<IPython.core.display.Image object>"
      ]
     },
     "metadata": {},
     "output_type": "display_data"
    },
    {
     "name": "stdout",
     "output_type": "stream",
     "text": [
      "기사 제목 : 필리핀서 다시 한 번 증명된 K-푸드 파워\n",
      "기사 링크 : https://news.nate.com/view/20250409n20559?mid=n0300\n",
      "\n"
     ]
    },
    {
     "data": {
      "image/jpeg": "[encoded data removed]",
      "text/plain": [
       "<IPython.core.display.Image object>"
      ]
     },
     "metadata": {},
     "output_type": "display_data"
    },
    {
     "name": "stdout",
     "output_type": "stream",
     "text": [
      "기사 제목 : 쿠팡, 봄나들이 먹거리 4700개 최대 53% 할인\n",
      "기사 링크 : https://news.nate.com/view/20250409n20558?mid=n0300\n",
      "\n"
     ]
    },
    {
     "data": {
      "image/jpeg": "[encoded data removed]",
      "text/plain": [
       "<IPython.core.display.Image object>"
      ]
     },
     "metadata": {},
     "output_type": "display_data"
    },
    {
     "name": "stdout",
     "output_type": "stream",
     "text": [
      "기사 제목 : [머닝(Money-Ing)] 미국 2공장 가동 관세 노이즈 \"오히려 좋아\" 실적 상향되는 화장품 픽?\n",
      "기사 링크 : https://news.nate.com/view/20250409n20557?mid=n0300\n",
      "\n",
      "기사 제목 : [속보] 코스피 장중 2300선 붕괴…트럼프 관세 폭탄에 '패닉'\n",
      "기사 링크 : https://news.nate.com/view/20250409n19789?mid=n0300\n",
      "\n"
     ]
    },
    {
     "data": {
      "image/jpeg": "[encoded data removed]",
      "text/plain": [
       "<IPython.core.display.Image object>"
      ]
     },
     "metadata": {},
     "output_type": "display_data"
    },
    {
     "name": "stdout",
     "output_type": "stream",
     "text": [
      "기사 제목 : 신한은행, 중소기업중앙회와 상생지원금 지원사업 실시\n",
      "기사 링크 : https://news.nate.com/view/20250409n20537?mid=n0300\n",
      "\n"
     ]
    },
    {
     "data": {
      "image/jpeg": "[encoded data removed]",
      "text/plain": [
       "<IPython.core.display.Image object>"
      ]
     },
     "metadata": {},
     "output_type": "display_data"
    },
    {
     "name": "stdout",
     "output_type": "stream",
     "text": [
      "기사 제목 : 태성, 복합동박 장비 양산 본격화…충남 산업단지 내 임대공장 계약 체결\n",
      "기사 링크 : https://news.nate.com/view/20250409n20536?mid=n0300\n",
      "\n"
     ]
    },
    {
     "data": {
      "image/png": "[encoded data removed]",
      "text/plain": [
       "<IPython.core.display.Image object>"
      ]
     },
     "metadata": {},
     "output_type": "display_data"
    },
    {
     "name": "stdout",
     "output_type": "stream",
     "text": [
      "기사 제목 : [김민수의 잠금해제] 카지노 3사 조용히 터지는 호실적 금리 부담 벗은 최선호주?\n",
      "기사 링크 : https://news.nate.com/view/20250409n20535?mid=n0300\n",
      "\n"
     ]
    }
   ],
   "source": [
    "# Nate 뉴스기사 제목 스크래핑하기\n",
    "import os\n",
    "from urllib.parse import urljoin\n",
    "from IPython.display import Image, display\n",
    "import requests\n",
    "from bs4 import BeautifulSoup\n",
    "\n",
    "\n",
    "section_dict = {'최신뉴스':100, '정치':200, '경제':300, '사회':400, '세계':500, 'IT/과학':600}\n",
    "\n",
    "# 함수선언\n",
    "def print_news(section_name):\n",
    "    section = section_dict[section_name]\n",
    "    url = f'https://news.nate.com/recent?mid=n0{section}'\n",
    "    req_header = {\n",
    "        'user_agent' : 'Mozilla/5.0 (Windows NT 10.0; Win64; x64) AppleWebKit/537.36 (KHTML, like Gecko) Chrome/135.0.0.0 Safari/537.36',\n",
    "        'referer': url\n",
    "    }\n",
    "    \n",
    "    res = requests.get(url, headers=req_header)\n",
    "   \n",
    "    print(f'nate 뉴스 기사 : 성공! {res.status_code}')\n",
    "    print(f'selction_name : {url}\\n')\n",
    "\n",
    "    if res.ok:\n",
    "        html = res.text\n",
    "        soup = BeautifulSoup(html, 'html.parser')\n",
    "        a_tag_list = soup.select(\"div.mlt01 a.lt1\") #span.tb h2.tit\n",
    "                \n",
    "        \n",
    "        for a_tag in a_tag_list:\n",
    "            link = a_tag['href']\n",
    "            title = a_tag.select_one(\"span.tb h2.tit\").text.strip()\n",
    "            \n",
    "            print(f'기사 제목 : {title}\\n기사 링크 : https:{link}\\n')\n",
    "            \n",
    "            image_tags = a_tag.select(\"img[src*='news.nateimg.co.kr/orgImg']\")\n",
    "            if image_tags:\n",
    "                img_src = image_tags[0].get('src')\n",
    "                img_url = urljoin('http:', img_src)\n",
    "                display(Image(img_url))\n",
    "    else:\n",
    "        print(f'Error code : {res.status_code}')\n",
    "\n",
    "\n",
    "#print_news('최신뉴스')\n",
    "print_news('경제')"
   ]
  },
  {
   "cell_type": "code",
   "execution_count": null,
   "id": "4e0f583e",
   "metadata": {},
   "outputs": [
    {
     "name": "stdout",
     "output_type": "stream",
     "text": [
      "6\n",
      "<class 'bs4.element.Tag'>\n",
      "article title : 소액주주 달래기 나선 한화...오너家 유상증자 할인은 없다\n",
      "<class 'bs4.element.Tag'>\n",
      "article title : '둘쑥날쑥' 국장에도-…\"동학개미, 저가 매수 옳다\"\n",
      "<class 'bs4.element.Tag'>\n",
      "article title : SK '5조원 가치' SK실트론 매각 물밑타진\n",
      "<class 'bs4.element.Tag'>\n",
      "article title : SK그룹 'SK실트론' 한앤컴퍼니에 매각 타진\n",
      "<class 'bs4.element.Tag'>\n",
      "article title : 개미는 삼성전자를 담는다…\"실적 좋은데\" vs \"美 관세 봐야\"\n",
      "<class 'bs4.element.Tag'>\n",
      "article title : 역사적 낙폭 진입한 S&P500…과거 공포 이후 수익률 살펴보니\n"
     ]
    }
   ],
   "source": [
    "#그냥 해봄\n",
    "\n",
    "def print_news():\n",
    "    url = \"https://finance.naver.com/news/\"\n",
    "    \n",
    "    req_header = {\n",
    "        'user_agent' : 'Mozilla/5.0 (Windows NT 10.0; Win64; x64) AppleWebKit/537.36 (KHTML, like Gecko) Chrome/135.0.0.0 Safari/537.36'\n",
    "    }\n",
    "    \n",
    "    res = requests.get(url, headers=req_header)\n",
    "    \n",
    "    if res.ok:\n",
    "        html = res.text\n",
    "        soup = BeautifulSoup(html, 'html.parser')\n",
    "        a_tag_list = soup.select(\"div.main_news ul li a[href*='article']\")\n",
    "        \n",
    "        \n",
    "        print(len(a_tag_list))\n",
    "      \n",
    "        for a_tag in a_tag_list:\n",
    "            title = a_tag.text.strip()\n",
    "            print(type(a_tag))\n",
    "            print(f'article title : {title}')\n",
    "    else:\n",
    "        print(f'Error message : {res.status_code}')\n",
    "\n",
    "print_news()"
   ]
  }
 ],
 "metadata": {
  "kernelspec": {
   "display_name": "base",
   "language": "python",
   "name": "python3"
  },
  "language_info": {
   "codemirror_mode": {
    "name": "ipython",
    "version": 3
   },
   "file_extension": ".py",
   "mimetype": "text/x-python",
   "name": "python",
   "nbconvert_exporter": "python",
   "pygments_lexer": "ipython3",
   "version": "3.12.7"
  }
 },
 "nbformat": 4,
 "nbformat_minor": 5
}
