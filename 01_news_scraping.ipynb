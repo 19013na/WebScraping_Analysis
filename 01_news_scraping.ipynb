{
 "cells": [
  {
   "cell_type": "code",
   "execution_count": 2,
   "id": "b9bbfa5e",
   "metadata": {},
   "outputs": [],
   "source": [
    "# reqeusts, bs4 import\n",
    "import requests\n",
    "import bs4\n",
    "from bs4 import BeautifulSoup"
   ]
  },
  {
   "cell_type": "code",
   "execution_count": 5,
   "id": "928a5b2d",
   "metadata": {},
   "outputs": [
    {
     "name": "stdout",
     "output_type": "stream",
     "text": [
      "https://news.daum.net/economy\n"
     ]
    }
   ],
   "source": [
    "req_param = {\n",
    "    'catalog' : 'economy' \n",
    "}\n",
    "\n",
    "url = 'https://news.daum.net/{catalog}'.format(**req_param)\n",
    "print(url)\n",
    "\n",
    "#header 설정\n",
    "req_header = {\n",
    "    'user_agent' : 'Mozilla/5.0 (Windows NT 10.0; Win64; x64) AppleWebKit/537.36 (KHTML, like Gecko) Chrome/135.0.0.0 Safari/537.36'\n",
    "}\n",
    "\n",
    "# requests get호출\n",
    "res = requests.get(url, headers=req_header)\n",
    "\n",
    "if res.ok :\n",
    "    html = res.text\n",
    "    soup = BeautifulSoup(html, 'html.parser')\n",
    "    #print(soup);\n",
    "\n",
    "else :\n",
    "    print(f'Error code : {res.status_code}');"
   ]
  },
  {
   "cell_type": "code",
   "execution_count": null,
   "id": "f6b1fc93",
   "metadata": {},
   "outputs": [],
   "source": []
  }
 ],
 "metadata": {
  "kernelspec": {
   "display_name": "base",
   "language": "python",
   "name": "python3"
  },
  "language_info": {
   "codemirror_mode": {
    "name": "ipython",
    "version": 3
   },
   "file_extension": ".py",
   "mimetype": "text/x-python",
   "name": "python",
   "nbconvert_exporter": "python",
   "pygments_lexer": "ipython3",
   "version": "3.12.7"
  }
 },
 "nbformat": 4,
 "nbformat_minor": 5
}
